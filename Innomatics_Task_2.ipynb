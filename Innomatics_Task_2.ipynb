{
 "cells": [
  {
   "cell_type": "code",
   "execution_count": 1,
   "metadata": {},
   "outputs": [
    {
     "name": "stdout",
     "output_type": "stream",
     "text": [
      "1\n",
      "2\n",
      "3\n",
      "4\n",
      "[[0, 0, 0], [0, 0, 1], [0, 0, 2], [0, 0, 3], [0, 1, 0], [0, 1, 1], [0, 1, 2], [0, 2, 0], [0, 2, 1], [0, 2, 3], [1, 0, 0], [1, 0, 1], [1, 0, 2], [1, 1, 0], [1, 1, 1], [1, 1, 3], [1, 2, 0], [1, 2, 2], [1, 2, 3]]\n"
     ]
    }
   ],
   "source": [
    "# question 1\n",
    "\n",
    "X = int(input())\n",
    "Y = int(input())\n",
    "Z = int(input())\n",
    "N = int(input())\n",
    "\n",
    "X += 1\n",
    "Y += 1\n",
    "Z += 1\n",
    "\n",
    "tmp_list = [[x, y, z] for x in range(X) for y in range(Y) for z in range(Z) if x + y + z != N]\n",
    "print(tmp_list)"
   ]
  },
  {
   "cell_type": "code",
   "execution_count": 3,
   "metadata": {},
   "outputs": [
    {
     "name": "stdout",
     "output_type": "stream",
     "text": [
      "3\n",
      "2 3 4 1 \n",
      "3\n"
     ]
    }
   ],
   "source": [
    "# question 2\n",
    "\n",
    "n = int(input())\n",
    "arr = map(int, input().split())\n",
    "arr = list(set(list(arr)))\n",
    "ar = len(arr)\n",
    "arr = sorted(arr)\n",
    "print(arr[ar-2])"
   ]
  },
  {
   "cell_type": "code",
   "execution_count": 4,
   "metadata": {},
   "outputs": [
    {
     "name": "stdout",
     "output_type": "stream",
     "text": [
      "4\n",
      "vv\n",
      "6\n",
      "gg\n",
      "8\n",
      "aa\n",
      "2\n",
      "mm\n",
      "7\n",
      "vv\n"
     ]
    }
   ],
   "source": [
    "# question 3\n",
    "\n",
    "score_list = [];\n",
    "for _ in range(int(input())):\n",
    "    name = input()\n",
    "    score = float(input())\n",
    "    \n",
    "    \n",
    "    score_list.append([name, score])\n",
    "second_highest = sorted(set([score for name, score in score_list]))[1]\n",
    "print('\\n'.join(sorted([name for name, score in score_list if score == second_highest])))"
   ]
  },
  {
   "cell_type": "code",
   "execution_count": 6,
   "metadata": {},
   "outputs": [
    {
     "name": "stdout",
     "output_type": "stream",
     "text": [
      "2\n",
      "ram 30 50 60\n",
      "bob 60 70 80\n",
      "ram\n",
      "46.67\n"
     ]
    }
   ],
   "source": [
    "# question 4\n",
    "\n",
    "n = int(input())\n",
    "student_marks = {}\n",
    "for _ in range(n):\n",
    "    line = input().split()\n",
    "    name, scores = line[0], line[1:]\n",
    "    scores = map(float, scores)\n",
    "    student_marks[name] = scores\n",
    "query_name = input()\n",
    "l=list(student_marks[query_name])\n",
    "le=len(l)\n",
    "s=sum(l)\n",
    "av=s/le\n",
    "print('%.2f'%av)"
   ]
  },
  {
   "cell_type": "code",
   "execution_count": 8,
   "metadata": {},
   "outputs": [
    {
     "name": "stdout",
     "output_type": "stream",
     "text": [
      "4\n",
      "append 5\n",
      "print\n",
      "[5]\n",
      "4\n",
      "6\n"
     ]
    }
   ],
   "source": [
    "# question 5\n",
    "\n",
    "arr = []\n",
    "for i in range(int(input())):\n",
    "    s = input().split()\n",
    "    for i in range(1,len(s)):\n",
    "        s[i] = int(s[i])\n",
    "        \n",
    "    if s[0] == \"append\":\n",
    "        arr.append(s[1])\n",
    "    elif s[0] == \"extend\":    \n",
    "        arr.extend(s[1:])\n",
    "    elif s[0] == \"insert\":\n",
    "        arr.insert(s[1],s[2])\n",
    "    elif s[0] == \"remove\":\n",
    "        arr.remove(s[1])\n",
    "    elif s[0] == \"pop\":\n",
    "        arr.pop()\n",
    "    elif s[0] == \"sort\":\n",
    "        arr.sort()\n",
    "    elif s[0] == \"reverse\":\n",
    "        arr.reverse()\n",
    "    elif s[0] == \"print\":\n",
    "        print (arr)"
   ]
  },
  {
   "cell_type": "code",
   "execution_count": 9,
   "metadata": {},
   "outputs": [
    {
     "name": "stdout",
     "output_type": "stream",
     "text": [
      "2\n",
      "2 3\n",
      "8409376899596376432\n"
     ]
    }
   ],
   "source": [
    "# question 6\n",
    "\n",
    "n = input()\n",
    "print (hash(tuple([int(i) for i in input().split()])))"
   ]
  },
  {
   "cell_type": "code",
   "execution_count": null,
   "metadata": {},
   "outputs": [],
   "source": [
    "# question 7\n",
    "\n",
    "def avg(array):\n",
    "    return sum(array)/len(array)\n",
    "int(input())\n",
    "arr = (int, input().split())\n",
    "result = avg(arr)\n",
    "print (result)\n"
   ]
  },
  {
   "cell_type": "code",
   "execution_count": 1,
   "metadata": {},
   "outputs": [
    {
     "name": "stdout",
     "output_type": "stream",
     "text": [
      "7\n",
      "8\n",
      "9\n",
      "3\n",
      "3\n",
      "8\n"
     ]
    }
   ],
   "source": [
    "# question 9\n",
    "\n",
    "input()\n",
    "m = set(map(int,input().split()))\n",
    "input()\n",
    "n = set(map(int,input().split()))\n",
    "print(*sorted(m^n), sep=\"\\n\")"
   ]
  },
  {
   "cell_type": "code",
   "execution_count": 4,
   "metadata": {},
   "outputs": [
    {
     "name": "stdout",
     "output_type": "stream",
     "text": [
      "3\n",
      "india\n",
      "india\n",
      "spain\n",
      "2\n"
     ]
    }
   ],
   "source": [
    "# question 10\n",
    "\n",
    "N = int(input())\n",
    "\n",
    "countries = set()\n",
    "\n",
    "for i in range(N):\n",
    "    countries.add(input())\n",
    "\n",
    "print(len(countries))"
   ]
  },
  {
   "cell_type": "code",
   "execution_count": 6,
   "metadata": {},
   "outputs": [
    {
     "name": "stdout",
     "output_type": "stream",
     "text": [
      "2\n",
      "1 2\n",
      "3\n",
      "pop\n",
      "discard 1\n",
      "pop\n",
      "0\n"
     ]
    }
   ],
   "source": [
    "# question 11\n",
    "\n",
    "n = int(input())\n",
    "s = set([int(x) for x in input().strip().split()]) \n",
    "for _ in range(int(input())):\n",
    "\n",
    "    a = list(input().strip().split())\n",
    "\n",
    "    if a[0] == 'pop':\n",
    "        s.pop()\n",
    "    elif a[0] == 'discard':\n",
    "        s.discard(int(a[1]))\n",
    "    else:\n",
    "        s.remove(int(a[1]))\n",
    "\n",
    "print (sum(s))"
   ]
  },
  {
   "cell_type": "code",
   "execution_count": 7,
   "metadata": {},
   "outputs": [
    {
     "name": "stdout",
     "output_type": "stream",
     "text": [
      "3\n",
      "3 4 5\n",
      "3\n",
      "4 5 6\n",
      "4\n"
     ]
    }
   ],
   "source": [
    "# question 12\n",
    "\n",
    "E = int(input())\n",
    "English = set(input().split())\n",
    "\n",
    "F = int(input())\n",
    "French = set(input().split())\n",
    "\n",
    "print (len(English | French))"
   ]
  },
  {
   "cell_type": "code",
   "execution_count": 8,
   "metadata": {},
   "outputs": [
    {
     "name": "stdout",
     "output_type": "stream",
     "text": [
      "3\n",
      "3 4 5\n",
      "4\n",
      "4 5 6 7\n",
      "2\n"
     ]
    }
   ],
   "source": [
    "# question 13\n",
    "\n",
    "E = int(input())\n",
    "English = set(input().split())\n",
    "\n",
    "F = int(input())\n",
    "French = set(input().split())\n",
    "\n",
    "print (len(English & French))"
   ]
  },
  {
   "cell_type": "code",
   "execution_count": 9,
   "metadata": {},
   "outputs": [
    {
     "name": "stdout",
     "output_type": "stream",
     "text": [
      "3\n",
      "3 4 5 6\n",
      "4\n",
      "4 5 6 7\n",
      "1\n"
     ]
    }
   ],
   "source": [
    "# question 14\n",
    "\n",
    "E = int(input())\n",
    "English = set(input().split())\n",
    "\n",
    "F = int(input())\n",
    "French = set(input().split())\n",
    "\n",
    "print (len(English - French))"
   ]
  },
  {
   "cell_type": "code",
   "execution_count": 10,
   "metadata": {},
   "outputs": [
    {
     "name": "stdout",
     "output_type": "stream",
     "text": [
      "2\n",
      "3 4\n",
      "3\n",
      "3 4 5\n",
      "1\n"
     ]
    }
   ],
   "source": [
    "# question 15\n",
    "\n",
    "E = int(input())\n",
    "English = set(input().split())\n",
    "\n",
    "F = int(input())\n",
    "French = set(input().split())\n",
    "\n",
    "print (len(English ^ French))"
   ]
  },
  {
   "cell_type": "code",
   "execution_count": null,
   "metadata": {},
   "outputs": [],
   "source": []
  }
 ],
 "metadata": {
  "kernelspec": {
   "display_name": "Python 3",
   "language": "python",
   "name": "python3"
  },
  "language_info": {
   "codemirror_mode": {
    "name": "ipython",
    "version": 3
   },
   "file_extension": ".py",
   "mimetype": "text/x-python",
   "name": "python",
   "nbconvert_exporter": "python",
   "pygments_lexer": "ipython3",
   "version": "3.8.5"
  }
 },
 "nbformat": 4,
 "nbformat_minor": 4
}
